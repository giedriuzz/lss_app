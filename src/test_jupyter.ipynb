{
 "cells": [
  {
   "cell_type": "code",
   "execution_count": null,
   "id": "5e3725cf",
   "metadata": {},
   "outputs": [
    {
     "ename": "",
     "evalue": "",
     "output_type": "error",
     "traceback": [
      "\u001b[1;31mRunning cells with '.venv (Python 3.12.3)' requires the ipykernel package.\n",
      "\u001b[1;31mInstall 'ipykernel' into the Python environment. \n",
      "\u001b[1;31mCommand: '/home/giedrius/venv/lss_app/.venv/bin/python -m pip install ipykernel -U --force-reinstall'"
     ]
    }
   ],
   "source": [
    "raport = {\n",
    "    \"radio_raports\": {\n",
    "        \"salute\": {\n",
    "            \"Pavadinimas\": \"SALUTE\",\n",
    "            \"Aprašymas\": \"Pranešimai apie pastebėtą priešą\",\n",
    "        },\n",
    "        \"salta\": {\"Pavadinimas\": \"SALTA\",\n",
    "                  \"Aprašymas\": \"Išsamus kontakto raportas\", \n",
    "                  \"raport_body\": { \"key_1\" : \"S Siera - PAJĖGOS (Priešo pajėgos)\",\n",
    "                                \"key_2\" : \"A ALPHA - PRIEŠO VEIKSMAI (Kas atsitiko)\",\n",
    "                                \"key_3\" : \"L LIMA  - VIETA (Priešo ir draugiškų pajėgų dislokacijos vieta, jei yra žinoma)\",\n",
    "                                \"key_4\" : \"T TANGO - DATOS LAIKO GRUPĖ (DLG) (Tiesioginio ar vizualaus kontakto laikas)\",\n",
    "                                \"key_5\" : \"A ALPHA - DRAUGIŠKŲ PAJĖGŲ VEIKSMAI (Kas padaryta, kas ketinama daryti)\",\n",
    "                                \"papildomai_1\": \"BŪTINA PAGALBA (Kokia reikalinga pagalba)\",\n",
    "                                \"papildomai_2\": \"Incidento kontrolės punkto (angl. ICP) vieta\",\n",
    "                                \"papildomai_3\": \"Saugus maršrutas iki incidento kontrolės punkto (angl. ICP)\"},\n",
    "                  },\n",
    "        \"walta\": {\"Pavadinimas\": \"WALTA\", \"Aprašymas\": \"Išsamus kontakto raportas\"},\n",
    "        \"medevac\": {\"Pavadinimas\": \"MEDEVAC\", \"Aprašymas\": \"MEDEVAC raportas\"},\n",
    "        \"locstat\": {\"Pavadinimas\": \"LOCSTAT\", \"Aprašymas\": \"Pranešimas apie padėtį\"},\n",
    "        \"casevac\": {\n",
    "            \"Pavadinimas\": \"CASEVAC\",\n",
    "            \"Aprašymas\": \"Pranešimas apie sužeistąjį, -uosius\",\n",
    "        },\n",
    "        \"sitpra\": {\n",
    "            \"Pavadinimas\": \"SITPRA\",\n",
    "            \"Aprašymas\": \"SITPRA (angl. SITREP) Situacijos raportas\",\n",
    "        },\n",
    "    }\n",
    "}\n",
    "\n",
    "def get_value_from_dictionary(\n",
    "    dictionary: dict, dictionary_key: str, dictionary_name: str\n",
    "):\n",
    "    select_dictionary = dictionary[dictionary_key]\n",
    "    for keys, values in select_dictionary[dictionary_name].items():\n",
    "        print(keys, \":\", values)\n",
    "\n",
    "\n",
    "if __name__ == \"__main__\":\n",
    "    get_value_from_dictionary(raport, \"radio_raports\", \"salta\")\n"
   ]
  }
 ],
 "metadata": {
  "kernelspec": {
   "display_name": ".venv",
   "language": "python",
   "name": "python3"
  },
  "language_info": {
   "name": "python",
   "version": "3.12.3"
  }
 },
 "nbformat": 4,
 "nbformat_minor": 5
}
